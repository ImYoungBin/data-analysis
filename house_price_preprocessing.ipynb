{
 "cells": [
  {
   "cell_type": "code",
   "execution_count": 1,
   "id": "a3269918",
   "metadata": {},
   "outputs": [],
   "source": [
    "# 공동주택가격정보 자료(like apt, yeonlip)\n",
    "# 공동주택가격정보 자료(like dandok)\n",
    "# http://www.nsdi.go.kr/lxportal/?menuno=2679\n",
    "# made by Beans Im"
   ]
  },
  {
   "cell_type": "code",
   "execution_count": 2,
   "id": "b0b38ac5",
   "metadata": {},
   "outputs": [],
   "source": [
    "import pandas as pd\n",
    "import geopandas as gpd\n",
    "import numpy as np\n",
    "import glob\n",
    "import dask.dataframe as dd\n",
    "from dask.diagnostics import ProgressBar"
   ]
  },
  {
   "cell_type": "code",
   "execution_count": 3,
   "id": "b33bc8a9",
   "metadata": {},
   "outputs": [],
   "source": [
    "pbar = ProgressBar()\n",
    "pbar.register()\n",
    "date = '2021-12-29'"
   ]
  },
  {
   "cell_type": "code",
   "execution_count": 4,
   "id": "559d1d57",
   "metadata": {},
   "outputs": [],
   "source": [
    "paths = glob.glob('D:/feature_data/개별주택가격정보/*.csv')\n",
    "# ['고유번호', '법정동코드', '법정동명', '특수지구분코드', '특수지구분명', '지번', '건축물대장고유번호', '기준연도',\n",
    "# '기준월', '동코드', '동명', '토지대장면적', '산정대지면적', '건물전체연면적', '건물산정연면적', '주택가격',\n",
    "# '표준지여부', '데이터기준일자']"
   ]
  },
  {
   "cell_type": "code",
   "execution_count": 5,
   "id": "b3b691b1",
   "metadata": {},
   "outputs": [
    {
     "name": "stdout",
     "output_type": "stream",
     "text": [
      "D:/feature_data/개별주택가격정보\\AL_11_D169_20210714.csv\n",
      "[########################################] | 100% Completed |  9.9s\n",
      "D:/feature_data/개별주택가격정보\\AL_26_D169_20210714.csv\n",
      "[########################################] | 100% Completed |  5.1s\n",
      "D:/feature_data/개별주택가격정보\\AL_27_D169_20210714.csv\n",
      "[########################################] | 100% Completed |  4.3s\n",
      "D:/feature_data/개별주택가격정보\\AL_28_D169_20210714.csv\n",
      "[########################################] | 100% Completed |  2.7s\n",
      "D:/feature_data/개별주택가격정보\\AL_29_D169_20210714.csv\n",
      "[########################################] | 100% Completed |  2.3s\n",
      "D:/feature_data/개별주택가격정보\\AL_30_D169_20210714.csv\n",
      "[########################################] | 100% Completed |  2.2s\n",
      "D:/feature_data/개별주택가격정보\\AL_31_D169_20210714.csv\n",
      "[########################################] | 100% Completed |  1.8s\n",
      "D:/feature_data/개별주택가격정보\\AL_36_D169_20210714.csv\n",
      "[########################################] | 100% Completed |  0.6s\n",
      "D:/feature_data/개별주택가격정보\\AL_41_D169_20210714.csv\n",
      "[########################################] | 100% Completed | 11.2s\n",
      "D:/feature_data/개별주택가격정보\\AL_42_D169_20210714.csv\n",
      "[########################################] | 100% Completed |  5.9s\n",
      "D:/feature_data/개별주택가격정보\\AL_43_D169_20210714.csv\n",
      "[########################################] | 100% Completed |  5.6s\n",
      "D:/feature_data/개별주택가격정보\\AL_44_D169_20210714.csv\n",
      "[########################################] | 100% Completed |  7.2s\n",
      "D:/feature_data/개별주택가격정보\\AL_45_D169_20210714.csv\n",
      "[########################################] | 100% Completed |  6.8s\n",
      "D:/feature_data/개별주택가격정보\\AL_46_D169_20210714.csv\n",
      "[########################################] | 100% Completed |  8.8s\n",
      "D:/feature_data/개별주택가격정보\\AL_47_D169_20210714.csv\n",
      "[########################################] | 100% Completed | 10.5s\n",
      "D:/feature_data/개별주택가격정보\\AL_48_D169_20210714.csv\n",
      "[########################################] | 100% Completed | 10.0s\n",
      "D:/feature_data/개별주택가격정보\\AL_50_D169_20210714.csv\n",
      "[########################################] | 100% Completed |  2.4s\n",
      "(3876955, 3)\n"
     ]
    }
   ],
   "source": [
    "dandok = pd.DataFrame()\n",
    "for path in paths:\n",
    "    print(path)\n",
    "    tmp = dd.read_csv(\n",
    "        path, \n",
    "        usecols=['법정동명', '지번', '기준연도', '기준월', '주택가격'],\n",
    "        dtype={'지번': 'str', '기준연도': 'str', '기준월': 'str'},\n",
    "        encoding = 'cp949'\n",
    "    )\n",
    "    tmp = tmp[(tmp['기준연도'].isin(['2021']))].compute()\n",
    "    dandok = pd.concat([dandok, tmp], ignore_index=True)\n",
    "    \n",
    "dandok.drop_duplicates(inplace = True)\n",
    "dandok.rename(columns = {'법정동명' : 'dong_address', \n",
    "                         '지번' : 'bunji', \n",
    "                         '기준연도' : 'base_year', \n",
    "                         '기준월' : 'base_month',\n",
    "                         '주택가격' : 'gov_price'}, inplace = True)   \n",
    "dandok = dandok[dandok['base_month'] == '01'].reset_index(drop=True)\n",
    "dandok['address_dong'] = dandok['dong_address'] + ' ' + dandok['bunji'] + '번지'\n",
    "dandok['address_dong'] = dandok['address_dong'].str.strip()\n",
    "dandok = dandok.drop(['dong_address', 'bunji', 'base_month'], axis=1)\n",
    "print(dandok.shape)"
   ]
  },
  {
   "cell_type": "code",
   "execution_count": 6,
   "id": "b77b4ae3",
   "metadata": {
    "scrolled": true
   },
   "outputs": [],
   "source": [
    "paths = glob.glob('D:/feature_data/공동주택가격정보/*.csv')\n",
    "# ['고유번호', '법정동코드', '법정동명', '특수지구분코드', '특수지구분명', '지번', '기준연도', '기준월',\n",
    "# '공동주택코드', '공동주택구분코드', '공동주택구분명', '특수지명', '공동주택명', '동명', '층명', '호명',\n",
    "# '전용면적', '공시가격', '데이터기준일자'],"
   ]
  },
  {
   "cell_type": "code",
   "execution_count": 7,
   "id": "e231b47e",
   "metadata": {},
   "outputs": [
    {
     "name": "stdout",
     "output_type": "stream",
     "text": [
      "D:/feature_data/공동주택가격정보\\AL_11_D167_20210817.csv\n",
      "[########################################] | 100% Completed | 45.9s\n",
      "D:/feature_data/공동주택가격정보\\AL_26_D167_20210817.csv\n",
      "[########################################] | 100% Completed | 18.7s\n",
      "D:/feature_data/공동주택가격정보\\AL_27_D167_20210817.csv\n",
      "[########################################] | 100% Completed | 12.7s\n",
      "D:/feature_data/공동주택가격정보\\AL_28_D167_20210817.csv\n",
      "[########################################] | 100% Completed | 17.1s\n",
      "D:/feature_data/공동주택가격정보\\AL_29_D167_20210817.csv\n",
      "[########################################] | 100% Completed |  9.1s\n",
      "D:/feature_data/공동주택가격정보\\AL_30_D167_20210817.csv\n",
      "[########################################] | 100% Completed |  8.9s\n",
      "D:/feature_data/공동주택가격정보\\AL_31_D167_20210817.csv\n",
      "[########################################] | 100% Completed |  6.7s\n",
      "D:/feature_data/공동주택가격정보\\AL_36_D167_20210817.csv\n",
      "[########################################] | 100% Completed |  1.3s\n",
      "D:/feature_data/공동주택가격정보\\AL_41_D167_20210817.csv\n",
      "[########################################] | 100% Completed |  1min  2.4s\n",
      "D:/feature_data/공동주택가격정보\\AL_42_D167_20210817.csv\n",
      "[########################################] | 100% Completed |  7.3s\n",
      "D:/feature_data/공동주택가격정보\\AL_43_D167_20210817.csv\n",
      "[########################################] | 100% Completed |  8.2s\n",
      "D:/feature_data/공동주택가격정보\\AL_44_D167_20210817.csv\n",
      "[########################################] | 100% Completed | 10.8s\n",
      "D:/feature_data/공동주택가격정보\\AL_45_D167_20210817.csv\n",
      "[########################################] | 100% Completed |  9.0s\n",
      "D:/feature_data/공동주택가격정보\\AL_46_D167_20210817.csv\n",
      "[########################################] | 100% Completed |  7.4s\n",
      "D:/feature_data/공동주택가격정보\\AL_47_D167_20210817.csv\n",
      "[########################################] | 100% Completed | 11.6s\n",
      "D:/feature_data/공동주택가격정보\\AL_48_D167_20210817.csv\n",
      "[########################################] | 100% Completed | 14.8s\n",
      "D:/feature_data/공동주택가격정보\\AL_50_D167_20210817.csv\n",
      "[########################################] | 100% Completed |  2.6s\n"
     ]
    }
   ],
   "source": [
    "public = pd.DataFrame()\n",
    "for path in paths:\n",
    "    print(path)\n",
    "    tmp = dd.read_csv(\n",
    "        path, \n",
    "        usecols=['법정동명', '지번', '기준연도', '기준월', '공동주택구분명', '동명', '층명', '호명', '공시가격'],\n",
    "        dtype={'동명': 'object',\n",
    "               '지번': 'object',\n",
    "               '호명': 'object',\n",
    "               '공시가격': 'float64',\n",
    "               '기준연도': 'object',\n",
    "               '기준월': 'float64',\n",
    "               '층명': 'float64'},\n",
    "        encoding = 'cp949'\n",
    "    )\n",
    "    tmp = tmp[(tmp['기준연도'].isin(['2021']))].compute()\n",
    "    public = pd.concat([public, tmp], ignore_index=True)\n",
    "    \n",
    "public.drop_duplicates(inplace = True)"
   ]
  },
  {
   "cell_type": "code",
   "execution_count": 8,
   "id": "373a2803",
   "metadata": {},
   "outputs": [],
   "source": [
    "public.rename(columns = {\n",
    "    '법정동명' : 'dong_address', \n",
    "    '지번' : 'bunji', \n",
    "    '기준연도' : 'base_year', \n",
    "    '기준월' : 'base_month', \n",
    "    '공동주택구분명' : 'type', \n",
    "    '동명' : 'building_name', \n",
    "    '층명' : 'floor_name', \n",
    "    '호명' : 'unit_name', \n",
    "    '공시가격' : 'gov_price',\n",
    "}, inplace = True)"
   ]
  },
  {
   "cell_type": "code",
   "execution_count": 9,
   "id": "c9e37bca",
   "metadata": {},
   "outputs": [
    {
     "name": "stdout",
     "output_type": "stream",
     "text": [
      "(14052025, 7)\n"
     ]
    }
   ],
   "source": [
    "public = public.reset_index(drop=True)\n",
    "public['address_dong'] = public['dong_address'] + ' ' + public['bunji'] + '번지'\n",
    "public['address_dong'] = public['address_dong'].str.strip()\n",
    "public = public.drop(['dong_address', 'bunji', 'base_month'], axis=1)\n",
    "print(public.shape)"
   ]
  },
  {
   "cell_type": "code",
   "execution_count": 10,
   "id": "8f008de8",
   "metadata": {},
   "outputs": [],
   "source": [
    "# This one change floor name to building name\n",
    "change = public[public['address_dong'] == '서울특별시 종로구 청운동 1번지'].index\n",
    "public.loc[change, 'floor_name'] = public.loc[change, 'building_name']\n",
    "public.loc['building_name', change] = np.nan"
   ]
  },
  {
   "cell_type": "code",
   "execution_count": 11,
   "id": "d57f4a37",
   "metadata": {},
   "outputs": [],
   "source": [
    "dandok.to_pickle('gov_price_dandok_' + date + '.pkl.gz', compression = 'gzip', protocol = 4)\n",
    "public.to_pickle('gov_price_cohousing_' + date + '.pkl.gz', compression = 'gzip', protocol = 4)"
   ]
  },
  {
   "cell_type": "code",
   "execution_count": null,
   "id": "b1eb45af",
   "metadata": {},
   "outputs": [],
   "source": []
  }
 ],
 "metadata": {
  "kernelspec": {
   "display_name": "xai2",
   "language": "python",
   "name": "xai2"
  },
  "language_info": {
   "codemirror_mode": {
    "name": "ipython",
    "version": 3
   },
   "file_extension": ".py",
   "mimetype": "text/x-python",
   "name": "python",
   "nbconvert_exporter": "python",
   "pygments_lexer": "ipython3",
   "version": "3.8.11"
  }
 },
 "nbformat": 4,
 "nbformat_minor": 5
}
