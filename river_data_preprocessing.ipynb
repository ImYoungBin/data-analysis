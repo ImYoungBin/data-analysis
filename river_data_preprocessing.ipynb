{
 "cells": [
  {
   "cell_type": "code",
   "execution_count": null,
   "id": "63f89d17",
   "metadata": {},
   "outputs": [],
   "source": [
    "# 하천망도\n",
    "# http://data.nsdi.go.kr/dataset/12608\n",
    "# made by Beans Im"
   ]
  },
  {
   "cell_type": "code",
   "execution_count": 8,
   "id": "a1d24b20",
   "metadata": {},
   "outputs": [],
   "source": [
    "import pandas as pd\n",
    "import geopandas as gpd\n",
    "import glob"
   ]
  },
  {
   "cell_type": "code",
   "execution_count": 7,
   "id": "661269e8",
   "metadata": {},
   "outputs": [
    {
     "data": {
      "text/plain": [
       "['C:/Users/sys02/Downloads/하천망도/국가 및 지방하천\\\\W_FRST.shp',\n",
       " 'C:/Users/sys02/Downloads/하천망도/국가 및 지방하천\\\\W_NATL.shp',\n",
       " 'C:/Users/sys02/Downloads/하천망도/국가 및 지방하천\\\\W_SCND.shp']"
      ]
     },
     "execution_count": 7,
     "metadata": {},
     "output_type": "execute_result"
    }
   ],
   "source": [
    "date = '2021-12-23'\n",
    "paths = glob.glob('C:/Users/sys02/Downloads/하천망도/국가 및 지방하천/W_*.shp')\n",
    "# crs = epsg:5186\n",
    "paths"
   ]
  },
  {
   "cell_type": "code",
   "execution_count": 26,
   "id": "eea796ae",
   "metadata": {},
   "outputs": [],
   "source": [
    "tmp = gpd.read_file(paths[0], encoding = 'euc-kr')\n",
    "tmp1 = gpd.read_file(paths[1], encoding = 'euc-kr')\n",
    "tmp2 = gpd.read_file(paths[2], encoding = 'euc-kr')"
   ]
  },
  {
   "cell_type": "code",
   "execution_count": 30,
   "id": "c927178a",
   "metadata": {
    "scrolled": false
   },
   "outputs": [
    {
     "data": {
      "text/html": [
       "<div>\n",
       "<style scoped>\n",
       "    .dataframe tbody tr th:only-of-type {\n",
       "        vertical-align: middle;\n",
       "    }\n",
       "\n",
       "    .dataframe tbody tr th {\n",
       "        vertical-align: top;\n",
       "    }\n",
       "\n",
       "    .dataframe thead th {\n",
       "        text-align: right;\n",
       "    }\n",
       "</style>\n",
       "<table border=\"1\" class=\"dataframe\">\n",
       "  <thead>\n",
       "    <tr style=\"text-align: right;\">\n",
       "      <th></th>\n",
       "      <th>CODE1</th>\n",
       "      <th>INDEXPAGE</th>\n",
       "      <th>LEVEL</th>\n",
       "      <th>NAME1</th>\n",
       "      <th>RIVLEN</th>\n",
       "      <th>UID</th>\n",
       "      <th>geometry</th>\n",
       "    </tr>\n",
       "  </thead>\n",
       "  <tbody>\n",
       "    <tr>\n",
       "      <th>0</th>\n",
       "      <td>1016100.0</td>\n",
       "      <td>,5,13,15</td>\n",
       "      <td>지방1</td>\n",
       "      <td>한탄강</td>\n",
       "      <td>81.35</td>\n",
       "      <td>4.0</td>\n",
       "      <td>POLYGON ((206586.648 600984.306, 206587.874 60...</td>\n",
       "    </tr>\n",
       "    <tr>\n",
       "      <th>1</th>\n",
       "      <td>1015270.0</td>\n",
       "      <td>,43</td>\n",
       "      <td>지방1</td>\n",
       "      <td>청계천</td>\n",
       "      <td>3.67</td>\n",
       "      <td>12.0</td>\n",
       "      <td>POLYGON ((204420.900 550422.570, 204424.490 55...</td>\n",
       "    </tr>\n",
       "    <tr>\n",
       "      <th>2</th>\n",
       "      <td>1016240.0</td>\n",
       "      <td>,13,15</td>\n",
       "      <td>지방1</td>\n",
       "      <td>영평천</td>\n",
       "      <td>13.50</td>\n",
       "      <td>8.0</td>\n",
       "      <td>POLYGON ((210085.719 604358.835, 210116.333 60...</td>\n",
       "    </tr>\n",
       "  </tbody>\n",
       "</table>\n",
       "</div>"
      ],
      "text/plain": [
       "       CODE1 INDEXPAGE LEVEL NAME1  RIVLEN   UID  \\\n",
       "0  1016100.0  ,5,13,15   지방1   한탄강   81.35   4.0   \n",
       "1  1015270.0       ,43   지방1   청계천    3.67  12.0   \n",
       "2  1016240.0    ,13,15   지방1   영평천   13.50   8.0   \n",
       "\n",
       "                                            geometry  \n",
       "0  POLYGON ((206586.648 600984.306, 206587.874 60...  \n",
       "1  POLYGON ((204420.900 550422.570, 204424.490 55...  \n",
       "2  POLYGON ((210085.719 604358.835, 210116.333 60...  "
      ]
     },
     "execution_count": 30,
     "metadata": {},
     "output_type": "execute_result"
    }
   ],
   "source": [
    "tmp.head(3)"
   ]
  },
  {
   "cell_type": "code",
   "execution_count": 31,
   "id": "2709b3d3",
   "metadata": {},
   "outputs": [
    {
     "data": {
      "text/html": [
       "<div>\n",
       "<style scoped>\n",
       "    .dataframe tbody tr th:only-of-type {\n",
       "        vertical-align: middle;\n",
       "    }\n",
       "\n",
       "    .dataframe tbody tr th {\n",
       "        vertical-align: top;\n",
       "    }\n",
       "\n",
       "    .dataframe thead th {\n",
       "        text-align: right;\n",
       "    }\n",
       "</style>\n",
       "<table border=\"1\" class=\"dataframe\">\n",
       "  <thead>\n",
       "    <tr style=\"text-align: right;\">\n",
       "      <th></th>\n",
       "      <th>CODE2</th>\n",
       "      <th>INDEXPAGE1</th>\n",
       "      <th>LEVEL1</th>\n",
       "      <th>NAME2</th>\n",
       "      <th>RIVLEN1</th>\n",
       "      <th>UID1</th>\n",
       "      <th>geometry</th>\n",
       "    </tr>\n",
       "  </thead>\n",
       "  <tbody>\n",
       "    <tr>\n",
       "      <th>0</th>\n",
       "      <td>4000010.0</td>\n",
       "      <td>,201,203,219,221,241,243,261</td>\n",
       "      <td>국가</td>\n",
       "      <td>섬진강</td>\n",
       "      <td>173.30</td>\n",
       "      <td>64.0</td>\n",
       "      <td>POLYGON ((218513.870 302267.214, 218596.211 30...</td>\n",
       "    </tr>\n",
       "    <tr>\n",
       "      <th>1</th>\n",
       "      <td>2000010.0</td>\n",
       "      <td>9,225,227,229,249</td>\n",
       "      <td>국가</td>\n",
       "      <td>낙동강</td>\n",
       "      <td>382.97</td>\n",
       "      <td>3.0</td>\n",
       "      <td>POLYGON ((353024.544 440633.736, 353013.215 44...</td>\n",
       "    </tr>\n",
       "    <tr>\n",
       "      <th>2</th>\n",
       "      <td>2000830.0</td>\n",
       "      <td>,119,135,137</td>\n",
       "      <td>국가</td>\n",
       "      <td>내성천</td>\n",
       "      <td>27.00</td>\n",
       "      <td>1.0</td>\n",
       "      <td>POLYGON ((331977.317 445926.303, 331973.677 44...</td>\n",
       "    </tr>\n",
       "  </tbody>\n",
       "</table>\n",
       "</div>"
      ],
      "text/plain": [
       "       CODE2                    INDEXPAGE1 LEVEL1 NAME2  RIVLEN1  UID1  \\\n",
       "0  4000010.0  ,201,203,219,221,241,243,261     국가   섬진강   173.30  64.0   \n",
       "1  2000010.0             9,225,227,229,249     국가   낙동강   382.97   3.0   \n",
       "2  2000830.0                  ,119,135,137     국가   내성천    27.00   1.0   \n",
       "\n",
       "                                            geometry  \n",
       "0  POLYGON ((218513.870 302267.214, 218596.211 30...  \n",
       "1  POLYGON ((353024.544 440633.736, 353013.215 44...  \n",
       "2  POLYGON ((331977.317 445926.303, 331973.677 44...  "
      ]
     },
     "execution_count": 31,
     "metadata": {},
     "output_type": "execute_result"
    }
   ],
   "source": [
    "tmp1.head(3)"
   ]
  },
  {
   "cell_type": "code",
   "execution_count": 32,
   "id": "4da1aa78",
   "metadata": {},
   "outputs": [
    {
     "data": {
      "text/html": [
       "<div>\n",
       "<style scoped>\n",
       "    .dataframe tbody tr th:only-of-type {\n",
       "        vertical-align: middle;\n",
       "    }\n",
       "\n",
       "    .dataframe tbody tr th {\n",
       "        vertical-align: top;\n",
       "    }\n",
       "\n",
       "    .dataframe thead th {\n",
       "        text-align: right;\n",
       "    }\n",
       "</style>\n",
       "<table border=\"1\" class=\"dataframe\">\n",
       "  <thead>\n",
       "    <tr style=\"text-align: right;\">\n",
       "      <th></th>\n",
       "      <th>INDEXPAGE2</th>\n",
       "      <th>LEVEL2</th>\n",
       "      <th>RIVLEN2</th>\n",
       "      <th>RIV_CD_1</th>\n",
       "      <th>RIV_NAM_1</th>\n",
       "      <th>UID2</th>\n",
       "      <th>geometry</th>\n",
       "    </tr>\n",
       "  </thead>\n",
       "  <tbody>\n",
       "    <tr>\n",
       "      <th>0</th>\n",
       "      <td>,249</td>\n",
       "      <td>지방2</td>\n",
       "      <td>1.69</td>\n",
       "      <td>2027670.0</td>\n",
       "      <td>대리천</td>\n",
       "      <td>2949.0</td>\n",
       "      <td>POLYGON ((382416.174 292320.818, 382246.896 29...</td>\n",
       "    </tr>\n",
       "    <tr>\n",
       "      <th>1</th>\n",
       "      <td>,255</td>\n",
       "      <td>지방2</td>\n",
       "      <td>2.48</td>\n",
       "      <td>5021480.0</td>\n",
       "      <td>금곡천</td>\n",
       "      <td>3736.0</td>\n",
       "      <td>POLYGON ((163772.731 259309.195, 163772.740 25...</td>\n",
       "    </tr>\n",
       "    <tr>\n",
       "      <th>2</th>\n",
       "      <td>,255</td>\n",
       "      <td>지방2</td>\n",
       "      <td>1.90</td>\n",
       "      <td>5021500.0</td>\n",
       "      <td>성남천</td>\n",
       "      <td>3287.0</td>\n",
       "      <td>POLYGON ((161965.565 258602.374, 161965.679 25...</td>\n",
       "    </tr>\n",
       "  </tbody>\n",
       "</table>\n",
       "</div>"
      ],
      "text/plain": [
       "  INDEXPAGE2 LEVEL2  RIVLEN2   RIV_CD_1 RIV_NAM_1    UID2  \\\n",
       "0       ,249    지방2     1.69  2027670.0       대리천  2949.0   \n",
       "1       ,255    지방2     2.48  5021480.0       금곡천  3736.0   \n",
       "2       ,255    지방2     1.90  5021500.0       성남천  3287.0   \n",
       "\n",
       "                                            geometry  \n",
       "0  POLYGON ((382416.174 292320.818, 382246.896 29...  \n",
       "1  POLYGON ((163772.731 259309.195, 163772.740 25...  \n",
       "2  POLYGON ((161965.565 258602.374, 161965.679 25...  "
      ]
     },
     "execution_count": 32,
     "metadata": {},
     "output_type": "execute_result"
    }
   ],
   "source": [
    "tmp2.head(3)"
   ]
  },
  {
   "cell_type": "code",
   "execution_count": 34,
   "id": "74a36e13",
   "metadata": {},
   "outputs": [],
   "source": [
    "tmp = tmp[['LEVEL', 'NAME1', 'RIVLEN', 'geometry']].rename(columns = {'NAME1' : 'NAME'})\n",
    "tmp1 = tmp1[['LEVEL1', 'NAME2', 'RIVLEN1', 'geometry']].rename(columns = {'LEVEL1' : 'LEVEL', 'NAME2' : 'NAME', 'RIVLEN1' : 'RIVLEN'})\n",
    "tmp2 = tmp2[['LEVEL2', 'RIV_NAM_1', 'RIVLEN2', 'geometry']].rename(columns = {'LEVEL2' : 'LEVEL', 'RIV_NAM_1' : 'NAME', 'RIVLEN2' : 'RIVLEN'})\n",
    "df = pd.concat([tmp, tmp1, tmp2])"
   ]
  },
  {
   "cell_type": "code",
   "execution_count": 41,
   "id": "fd4a0817",
   "metadata": {},
   "outputs": [],
   "source": [
    "# NAME은 하천이름, \n",
    "# RIVLEN은 하천길이로 추정되고 \n",
    "# RIV_CD는 하천코드, \n",
    "# UID는 관리코드로 생산기관에서 관리의 편의에 맞게 작성한 것으로 추정"
   ]
  },
  {
   "cell_type": "code",
   "execution_count": 42,
   "id": "77241f86",
   "metadata": {},
   "outputs": [
    {
     "data": {
      "text/html": [
       "<div>\n",
       "<style scoped>\n",
       "    .dataframe tbody tr th:only-of-type {\n",
       "        vertical-align: middle;\n",
       "    }\n",
       "\n",
       "    .dataframe tbody tr th {\n",
       "        vertical-align: top;\n",
       "    }\n",
       "\n",
       "    .dataframe thead th {\n",
       "        text-align: right;\n",
       "    }\n",
       "</style>\n",
       "<table border=\"1\" class=\"dataframe\">\n",
       "  <thead>\n",
       "    <tr style=\"text-align: right;\">\n",
       "      <th></th>\n",
       "      <th>LEVEL</th>\n",
       "      <th>NAME</th>\n",
       "      <th>RIVLEN</th>\n",
       "      <th>UID</th>\n",
       "      <th>geometry</th>\n",
       "    </tr>\n",
       "  </thead>\n",
       "  <tbody>\n",
       "    <tr>\n",
       "      <th>0</th>\n",
       "      <td>지방1</td>\n",
       "      <td>한탄강</td>\n",
       "      <td>81.35</td>\n",
       "      <td>4.0</td>\n",
       "      <td>POLYGON ((962690.538 2001066.468, 962691.764 2...</td>\n",
       "    </tr>\n",
       "    <tr>\n",
       "      <th>1</th>\n",
       "      <td>지방1</td>\n",
       "      <td>청계천</td>\n",
       "      <td>3.67</td>\n",
       "      <td>12.0</td>\n",
       "      <td>POLYGON ((960255.430 1950536.348, 960259.023 1...</td>\n",
       "    </tr>\n",
       "    <tr>\n",
       "      <th>2</th>\n",
       "      <td>지방1</td>\n",
       "      <td>영평천</td>\n",
       "      <td>13.50</td>\n",
       "      <td>8.0</td>\n",
       "      <td>POLYGON ((966206.343 2004420.846, 966237.372 2...</td>\n",
       "    </tr>\n",
       "    <tr>\n",
       "      <th>3</th>\n",
       "      <td>지방1</td>\n",
       "      <td>양양남대천</td>\n",
       "      <td>16.60</td>\n",
       "      <td>3.0</td>\n",
       "      <td>POLYGON ((1100448.725 2012442.137, 1100475.215...</td>\n",
       "    </tr>\n",
       "    <tr>\n",
       "      <th>4</th>\n",
       "      <td>지방1</td>\n",
       "      <td>양양남대천</td>\n",
       "      <td>16.60</td>\n",
       "      <td>3.0</td>\n",
       "      <td>POLYGON ((1098600.518 2008509.779, 1098612.524...</td>\n",
       "    </tr>\n",
       "  </tbody>\n",
       "</table>\n",
       "</div>"
      ],
      "text/plain": [
       "  LEVEL   NAME  RIVLEN   UID  \\\n",
       "0   지방1    한탄강   81.35   4.0   \n",
       "1   지방1    청계천    3.67  12.0   \n",
       "2   지방1    영평천   13.50   8.0   \n",
       "3   지방1  양양남대천   16.60   3.0   \n",
       "4   지방1  양양남대천   16.60   3.0   \n",
       "\n",
       "                                            geometry  \n",
       "0  POLYGON ((962690.538 2001066.468, 962691.764 2...  \n",
       "1  POLYGON ((960255.430 1950536.348, 960259.023 1...  \n",
       "2  POLYGON ((966206.343 2004420.846, 966237.372 2...  \n",
       "3  POLYGON ((1100448.725 2012442.137, 1100475.215...  \n",
       "4  POLYGON ((1098600.518 2008509.779, 1098612.524...  "
      ]
     },
     "execution_count": 42,
     "metadata": {},
     "output_type": "execute_result"
    }
   ],
   "source": [
    "# 좌표계 변환\n",
    "df = df.to_crs('epsg:5179')\n",
    "df.head()"
   ]
  },
  {
   "cell_type": "code",
   "execution_count": 43,
   "id": "2b5906a7",
   "metadata": {},
   "outputs": [],
   "source": [
    "# python version이 낮을 경우 protocol = 4로 저장된 pickle file만 열림\n",
    "df.to_pickle('river_data_' + date + '.pkl.gz', compression = 'gzip', protocol = 4)"
   ]
  },
  {
   "cell_type": "code",
   "execution_count": null,
   "id": "4a4ab904",
   "metadata": {},
   "outputs": [],
   "source": []
  }
 ],
 "metadata": {
  "kernelspec": {
   "display_name": "xai2",
   "language": "python",
   "name": "xai2"
  },
  "language_info": {
   "codemirror_mode": {
    "name": "ipython",
    "version": 3
   },
   "file_extension": ".py",
   "mimetype": "text/x-python",
   "name": "python",
   "nbconvert_exporter": "python",
   "pygments_lexer": "ipython3",
   "version": "3.8.11"
  }
 },
 "nbformat": 4,
 "nbformat_minor": 5
}
